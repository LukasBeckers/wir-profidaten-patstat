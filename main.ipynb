{
 "cells": [
  {
   "cell_type": "code",
   "execution_count": 2,
   "metadata": {},
   "outputs": [],
   "source": [
    "import pandas as pd\n",
    "from collections import Counter\n",
    "from profidaten_patstat_matching import Patstat, Profidaten, BestMatches, AusführendeStelle, load_clean_names_dict\n",
    "from preprocessing import clean_company_names, SimpleGMBHRemover\n",
    "from postprocessing import load_matching_results, classify_matching_results\n"
   ]
  },
  {
   "cell_type": "markdown",
   "metadata": {},
   "source": [
    "# Analyzing the Patstat Subset"
   ]
  },
  {
   "cell_type": "code",
   "execution_count": null,
   "metadata": {},
   "outputs": [],
   "source": [
    "print(f\"There are a total of {len(Patstat.data):,} entries in the Patstat subset.\")\n",
    "print(f\"There are {len(Patstat.data['person_name'].dropna()):,} entries with person_names in the Patstat subset.\")\n",
    "print(f\"There are {len(Patstat.data['person_name'].dropna().drop_duplicates()):,} individual person_names in the Patstat subset.\")\n"
   ]
  },
  {
   "cell_type": "code",
   "execution_count": null,
   "metadata": {},
   "outputs": [],
   "source": [
    "# Cleaning the Patstat subset\n",
    "output_file = \"./data/clean_patstat_names.txt\" \n",
    "\n",
    "names = Patstat.data[\"person_name\"].dropna().drop_duplicates().tolist()\n",
    "clean_company_names(names, output_file=output_file)\n"
   ]
  },
  {
   "cell_type": "code",
   "execution_count": null,
   "metadata": {},
   "outputs": [],
   "source": [
    "#Individual Patstat person_names after cleaning the names\n",
    "file = \"./data/clean_patstat_names.txt\" \n",
    "clean_names_dict = load_clean_names_dict(file)\n",
    "print(f\"There are {len(set(clean_names_dict.values())):,} individual Person Names in the Patstat dataset after cleaning the names.\")\n"
   ]
  },
  {
   "cell_type": "markdown",
   "metadata": {},
   "source": [
    "# Analyzing the Profi Dataset"
   ]
  },
  {
   "cell_type": "code",
   "execution_count": null,
   "metadata": {},
   "outputs": [],
   "source": [
    "print(f\"There are a total of {len(Profidaten.data):,} entries in the Profi extract.\")\n",
    "print(f\"There are {len(AusführendeStelle.data):,} entries in the 'AusführendeStelle' column of the profi dataset after cleaning and removing duplicates.\")"
   ]
  },
  {
   "cell_type": "markdown",
   "metadata": {},
   "source": [
    "# Sting Matching the Patstat and the Profi Names. "
   ]
  },
  {
   "cell_type": "code",
   "execution_count": null,
   "metadata": {},
   "outputs": [],
   "source": [
    "file = \"./data/clean_patstat_names.txt\" \n",
    "clean_names_dict = load_clean_names_dict(file)\n",
    "names = list(set(clean_names_dict.values()))\n",
    "\n",
    "output_file = \"./data/matching_results.txt\" \n",
    "with open(output_file, \"w\") as file:\n",
    "    file.write(\"Ausführende Stelle;Patstat\\n\")\n",
    "BestMatches.find_closest_matches(names, out_file=output_file)"
   ]
  },
  {
   "cell_type": "markdown",
   "metadata": {},
   "source": [
    "# Classifing the Matching Results using gpt-4o mini\n"
   ]
  },
  {
   "cell_type": "code",
   "execution_count": 3,
   "metadata": {},
   "outputs": [],
   "source": [
    "import os\n",
    "\n",
    "os.environ[\"OPENAI_API_KEY\"] = \"\" # Set with your key\n",
    "os.environ[\"MODEL\"] = \"gpt-4o-mini\""
   ]
  },
  {
   "cell_type": "code",
   "execution_count": 5,
   "metadata": {},
   "outputs": [
    {
     "name": "stdout",
     "output_type": "stream",
     "text": [
      "1279/1280\r"
     ]
    }
   ],
   "source": [
    "matching_results = load_matching_results(\"./data/matching_results.txt\")\n",
    "with open(\"data/matching_results_classified.txt\", \"w\", encoding=\"utf-8\") as file:\n",
    "    file.write(\"Ausführende Stelle;Patstat;Classification\\n\")\n",
    "    for i, (name0, name1) in  enumerate(zip(matching_results[\"Ausführende Stelle\"], matching_results[\"Patstat\"])):\n",
    "                print(f\"{i}/{len(matching_results)}\", end=\"\\r\")\n",
    "                classification_result = classify_matching_results(name0, name1)\n",
    "                file.write(f\"{name0};{name1};{classification_result}\\n\")\n",
    "    "
   ]
  },
  {
   "cell_type": "code",
   "execution_count": 25,
   "metadata": {},
   "outputs": [
    {
     "name": "stdout",
     "output_type": "stream",
     "text": [
      "The ChatGPT classification showed a 35.00 % string matching accuracy.\n"
     ]
    }
   ],
   "source": [
    "# Checking accuracy of string matching\n",
    "\n",
    "classified_matching_results = pd.read_csv(\"data/matching_results_classified.txt\", delimiter=\";\", lineterminator=\"\\n\")\n",
    "predictions = classified_matching_results[\"Classification\"]\n",
    "C = Counter(predictions)\n",
    "print(f\"The ChatGPT classification showed a {C[True] *100/(C[False] + C[True]):.2f} % string matching accuracy.\")\n"
   ]
  },
  {
   "cell_type": "code",
   "execution_count": 14,
   "metadata": {},
   "outputs": [
    {
     "name": "stderr",
     "output_type": "stream",
     "text": [
      "/tmp/ipykernel_771407/562216038.py:31: SettingWithCopyWarning: \n",
      "A value is trying to be set on a copy of a slice from a DataFrame.\n",
      "Try using .loc[row_indexer,col_indexer] = value instead\n",
      "\n",
      "See the caveats in the documentation: https://pandas.pydata.org/pandas-docs/stable/user_guide/indexing.html#returning-a-view-versus-a-copy\n",
      "  id_ausführende_stelle[\"Patstat Name\"] = id_ausführende_stelle[\"p_ausführendeStelle\"].apply(translate)\n"
     ]
    },
    {
     "name": "stdout",
     "output_type": "stream",
     "text": [
      "2256/2257\r"
     ]
    },
    {
     "name": "stderr",
     "output_type": "stream",
     "text": [
      "/tmp/ipykernel_771407/562216038.py:50: SettingWithCopyWarning: \n",
      "A value is trying to be set on a copy of a slice from a DataFrame.\n",
      "Try using .loc[row_indexer,col_indexer] = value instead\n",
      "\n",
      "See the caveats in the documentation: https://pandas.pydata.org/pandas-docs/stable/user_guide/indexing.html#returning-a-view-versus-a-copy\n",
      "  id_ausführende_stelle[\"Patstat person_id\"] = person_ids\n"
     ]
    }
   ],
   "source": [
    "# Creating a translation table for Ausführende Stelle to Patstat\n",
    "classified_matching_results = pd.read_csv(\"data/matching_results_classified.txt\", delimiter=\";\", lineterminator=\"\\n\")\n",
    "translation_dict = {row[\"Ausführende Stelle\"]: row[\"Patstat\"] for i, row in classified_matching_results.iterrows() if row[\"Classification\"]}\n",
    "\n",
    "# Creating a reverse translation table from clean patstat name to normal Patstat name.\n",
    "clean_patstat_names = pd.read_csv(\"data/clean_patstat_names.txt\", delimiter=\";\", lineterminator=\"\\n\")\n",
    "reverse_patstat_dict = {row[\" Clean Name\"]: row[\"Original Name\"] for i, row in clean_patstat_names.iterrows()}\n",
    "\n",
    "a = []\n",
    "for i, x in enumerate(reverse_patstat_dict.keys()):\n",
    "    a.append(x)\n",
    "    if i == 100:\n",
    "        break\n",
    "\n",
    "def translate(name: str):\n",
    "    name = SimpleGMBHRemover.preprocess_name(name)\n",
    "\n",
    "    if name in translation_dict.keys():\n",
    "        name = translation_dict[name]\n",
    "\n",
    "        # Removing new line statement at the end\n",
    "        if name[-2:] == \"\\\\n\": \n",
    "            name = name[:-2]\n",
    "\n",
    "        name = reverse_patstat_dict[name] \n",
    "        return name\n",
    "    else: \n",
    "        return \"No Match Found!\"\n",
    "\n",
    "id_ausführende_stelle = Profidaten.data[[\"ID\", \"p_ausführendeStelle\"]]\n",
    "id_ausführende_stelle[\"Patstat Name\"] = id_ausführende_stelle[\"p_ausführendeStelle\"].apply(translate)\n",
    "#id_ausführende_stelle = id_ausführende_stelle[id_ausführende_stelle[\"Patstat Name\"] != \"No Match Found!\"]\n",
    "\n",
    "# Adding the person_ids form patstat\n",
    "person_ids = []\n",
    "patstat_persons = Patstat.data.drop_duplicates(subset=\"person_id\")\n",
    "\n",
    "def extract_person_id(name:str):\n",
    "    if name == \"No Match Found!\":\n",
    "        return name\n",
    "    patstat_with_name = patstat_persons[patstat_persons[\"person_name\"] == name]\n",
    "    person_ids = patstat_with_name[\"person_id\"]\n",
    "    return person_ids.to_list()\n",
    "    \n",
    "for i, name in enumerate(id_ausführende_stelle[\"Patstat Name\"]):\n",
    "    print(f\"{i}/{len(id_ausführende_stelle)}\", end='\\r')\n",
    "    person_id_candidates = extract_person_id(name)\n",
    "    person_ids.append(person_id_candidates)\n",
    "\n",
    "id_ausführende_stelle[\"Patstat person_id\"] = person_ids\n",
    "\n",
    "id_ausführende_stelle.to_excel(\"data/profi_patstat_translation.xlsx\")\n",
    "\n",
    "\n",
    "\n",
    "\n"
   ]
  },
  {
   "cell_type": "code",
   "execution_count": null,
   "metadata": {},
   "outputs": [],
   "source": []
  },
  {
   "cell_type": "code",
   "execution_count": null,
   "metadata": {},
   "outputs": [],
   "source": []
  }
 ],
 "metadata": {
  "kernelspec": {
   "display_name": "venv",
   "language": "python",
   "name": "python3"
  },
  "language_info": {
   "codemirror_mode": {
    "name": "ipython",
    "version": 3
   },
   "file_extension": ".py",
   "mimetype": "text/x-python",
   "name": "python",
   "nbconvert_exporter": "python",
   "pygments_lexer": "ipython3",
   "version": "3.10.14"
  }
 },
 "nbformat": 4,
 "nbformat_minor": 2
}
